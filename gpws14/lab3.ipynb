{
 "metadata": {
  "name": ""
 },
 "nbformat": 3,
 "nbformat_minor": 0,
 "worksheets": [
  {
   "cells": [
    {
     "cell_type": "heading",
     "level": 1,
     "metadata": {},
     "source": [
      "Lab session 3: Dimensionality Reduction using Gaussian Processes"
     ]
    },
    {
     "cell_type": "markdown",
     "metadata": {},
     "source": [
      "Gaussian Process Winter School, 15th January 2014\n",
      "written by Max Zwiessele, Neil Lawrence"
     ]
    },
    {
     "cell_type": "markdown",
     "metadata": {},
     "source": [
      "This lab session will focus on three aspects of GPs: sampling, the design of Experiments and uncertainty propagation."
     ]
    },
    {
     "cell_type": "heading",
     "level": 2,
     "metadata": {},
     "source": [
      "1 Getting Started and Downloading Data"
     ]
    },
    {
     "cell_type": "markdown",
     "metadata": {},
     "source": [
      "As for the last two lab sessions, the first thing to do is set the plots to appear inline and import relevant modules for the lab session."
     ]
    },
    {
     "cell_type": "code",
     "collapsed": false,
     "input": [
      "%pylab inline\n",
      "import numpy as np\n",
      "import pylab as pb\n",
      "import GPy\n",
      "import string"
     ],
     "language": "python",
     "metadata": {},
     "outputs": []
    },
    {
     "cell_type": "markdown",
     "metadata": {},
     "source": [
      "For this lab, we've created a dataset `digits.npy` containing all handwritten digits from $0 \\cdots 9$ handwritten, provided by deCampos et al. [2009]. All digits were cropped and scaled down to an appropriate format.\n",
      "You can retrieve the dataset as follows:"
     ]
    },
    {
     "cell_type": "code",
     "collapsed": false,
     "input": [
      "import urllib\n",
      "urllib.urlretrieve('http://staffwww.dcs.sheffield.ac.uk/people/m.zwiessele/gpss/lab3/characters.npy', 'characters.npy')\n",
      "urllib.urlretrieve('http://staffwww.dcs.sheffield.ac.uk/people/m.zwiessele/gpss/lab3/digits.npy', 'digits.npy')\n",
      "urllib.urlretrieve('http://staffwww.dcs.sheffield.ac.uk/people/m.zwiessele/gpss/lab3/load_plotting.py', 'load_plotting.py')\n",
      "urllib.urlretrieve('http://staffwww.dcs.sheffield.ac.uk/people/m.zwiessele/gpss/lab3/load_bgplvm_dimension_select.py', 'load_bgplvm_dimension_select.py')\n",
      "urllib.urlretrieve('http://staffwww.dcs.sheffield.ac.uk/people/m.zwiessele/gpss/lab3/pca.py', 'pca.py')\n",
      "from load_plotting import * # for plotting"
     ],
     "language": "python",
     "metadata": {},
     "outputs": []
    },
    {
     "cell_type": "markdown",
     "metadata": {},
     "source": [
      "We will only use some of the digits for the demonstrations in this lab class, but you can edit the code below to select different subsets of the digit data as you wish."
     ]
    },
    {
     "cell_type": "code",
     "collapsed": false,
     "input": [
      "digits = np.load('digits.npy')\n",
      "which = [0,1,2,6,7,9] # which digits to work on\n",
      "digits = digits[which,:,:,:]\n",
      "num_classes, num_samples, height, width = digits.shape\n",
      "labels = np.array([[str(l)]*num_samples for l in which])"
     ],
     "language": "python",
     "metadata": {},
     "outputs": []
    },
    {
     "cell_type": "markdown",
     "metadata": {},
     "source": [
      "You can try to plot some sample using pb.matshow"
     ]
    },
    {
     "cell_type": "heading",
     "level": 2,
     "metadata": {},
     "source": [
      "2 Principal Component Analysis"
     ]
    },
    {
     "cell_type": "markdown",
     "metadata": {},
     "source": [
      "Principal component analysis (PCA) finds a rotation of the observed outputs, such that the rotated principal component (PC) space maximizes the variance of the data observed, sorted from most to least important (most to least variable in the corresponding PC).\n",
      "\n",
      "In order to apply PCA in an easy way, we have included a PCA module in pca.py. You can import the module by \n",
      "import <path.to.pca> (without the ending .py!). \n",
      "To run PCA on the digits we have to reshape (Hint: np.reshape ) digits . \n",
      "\n",
      "* What is the right shape $n \\times d$ to use?\n",
      "\n",
      "We will call the reshaped observed outputs $\\mathbf{Y}$ in the following."
     ]
    },
    {
     "cell_type": "code",
     "collapsed": false,
     "input": [
      "Y = digits.reshape((digits.shape[0]*digits.shape[1],digits.shape[2]*digits.shape[3]))\n",
      "Yn = Y-Y.mean()"
     ],
     "language": "python",
     "metadata": {},
     "outputs": []
    },
    {
     "cell_type": "markdown",
     "metadata": {},
     "source": [
      "Now let\u2019s run PCA on the reshaped dataset $\\mathbf{Y}$:"
     ]
    },
    {
     "cell_type": "code",
     "collapsed": false,
     "input": [
      "import pca\n",
      "p = pca.PCA(Y) # create PCA class with digits dataset"
     ],
     "language": "python",
     "metadata": {},
     "outputs": []
    },
    {
     "cell_type": "markdown",
     "metadata": {},
     "source": [
      "The resulting plot will show the lower dimensional representation of the digits in 2 dimensions."
     ]
    },
    {
     "cell_type": "code",
     "collapsed": false,
     "input": [
      "p.plot_fracs(20) # plot first 20 eigenvalue fractions\n",
      "p.plot_2d(Y,labels=labels.flatten(), colors=colors)\n",
      "pb.legend()"
     ],
     "language": "python",
     "metadata": {},
     "outputs": []
    },
    {
     "cell_type": "heading",
     "level": 2,
     "metadata": {},
     "source": [
      "3 Gaussian Process Latent Variable Model"
     ]
    },
    {
     "cell_type": "markdown",
     "metadata": {},
     "source": [
      "The Gaussian Process Latent Variable Model (GP-LVM) embeds of PCA into a Gaussian process framework, where the latent inputs $\\mathbf{X}$ are learnt as hyperparameters and the mapping variables $\\mathbf{W}$ are integrated out. The advantage of this interpretation is it allows PCA to be generalized in a non linear way by replacing the resulting *linear* covariance witha  non linear covariance. But first, let's see how GPLVM is equivalent to PCA using an automatic relevance determination (ARD, see e.g. Bishop et al. [2006]) linear kernel:"
     ]
    },
    {
     "cell_type": "code",
     "collapsed": false,
     "input": [
      "input_dim = 4 # How many latent dimensions to use\n",
      "kernel = GPy.kern.linear(input_dim, ARD=True) # ARD kernel\n",
      "#kernel += GPy.kern.white(input_dim) + GPy.kern.bias(input_dim)\n",
      "m = GPy.models.GPLVM(Yn, input_dim=input_dim, kernel=kernel)\n",
      "m.ensure_default_constraints()\n",
      "m['noise'] = m.likelihood.Y.var()/20. # start noise is 5% of datanoise\n",
      "m.optimize(messages=1, max_iters=1000) # optimize for 1000 iterations\n",
      "m.kern.plot_ARD()\n",
      "plot_model(m, m['linear_variance'].argsort()[-2:], labels.flatten())\n",
      "pb.legend()"
     ],
     "language": "python",
     "metadata": {},
     "outputs": []
    },
    {
     "cell_type": "markdown",
     "metadata": {},
     "source": [
      "As you can see the solution with a linear kernel is the same as the PCA solution with the exception of rotational changes and axis flips.\n",
      "\n",
      "For the sake of time, the solution you see was only running for 1000 iterations, thus it might not be converged fully yet. The GP-LVM proceeds by iterative optimization of the *inputs* to the covariance. As we saw in the lecture earlier, for the linear covariance, these latent points can be optimized with an eigenvalue problem, but generally, for non-linear covariance functions, we are obliged to use gradient based optimization."
     ]
    },
    {
     "cell_type": "heading",
     "level": 3,
     "metadata": {},
     "source": [
      "Exercise 1"
     ]
    },
    {
     "cell_type": "markdown",
     "metadata": {},
     "source": [
      "a) How do your linear solutions differ between PCA and GPLVM with a linear kernel? Look at the plots and also try and consider how the linear ARD parameters compare to the eigenvalues of the principal components."
     ]
    },
    {
     "cell_type": "raw",
     "metadata": {},
     "source": [
      "# Exercise 1 a) answer"
     ]
    },
    {
     "cell_type": "markdown",
     "metadata": {},
     "source": [
      "b) The next step is to use a non-linear mapping between inputs $\\mathbf{X}$ and ouputs $\\mathbf{Y}$ by selecting the exponentiated quadratic (`GPy.kern.rbf`) covariance function. "
     ]
    },
    {
     "cell_type": "code",
     "collapsed": false,
     "input": [
      "# Exercise 1 b) answer"
     ],
     "language": "python",
     "metadata": {},
     "outputs": []
    },
    {
     "cell_type": "markdown",
     "metadata": {},
     "source": [
      "c) How does the nonlinear model differe from the linear model? Are there digits that the GPLVM with an exponentiated quadratic covariance can separate, which PCA is not able to?"
     ]
    },
    {
     "cell_type": "raw",
     "metadata": {},
     "source": [
      "# Exercise 1 c) answer"
     ]
    },
    {
     "cell_type": "markdown",
     "metadata": {},
     "source": [
      "d) Try modifying the covariance function and running the model again. For example you could try a combination of the linear and exponentiated quadratic covariance function or the Matern 5/2. If you run into stability problems try initializing the covariance function parameters differently."
     ]
    },
    {
     "cell_type": "raw",
     "metadata": {},
     "source": [
      "# Exercise 1 d) answer"
     ]
    },
    {
     "cell_type": "heading",
     "level": 2,
     "metadata": {},
     "source": [
      "4 Bayesian GPLVM"
     ]
    },
    {
     "cell_type": "markdown",
     "metadata": {},
     "source": [
      "In GP-LVM we use a point estimate of the distribution of the input $\\mathbf{X}$. This estimate is derived through maximum likelihood or through a maximum a posteriori (MAP) approach. Ideally, we would like to also estimate a distribution over the input $\\mathbf{X}$. In the Bayesian GPLVM we approximate the true distribution $p(\\mathbf{X}|\\mathbf{Y})$ by a variational approximation $q(\\mathbf{X})$ and integrate $\\mathbf{X}$ out. \n",
      "\n",
      "Approximating the posterior in this way allows us to optimize a lower bound on the marginal likelihood. Handling the uncertainty in a principled way allows the model to make an assessment of whether a particular latent dimension is required, or the variation is better explained by noise. This allows the algorithm to switch off latent dimensions. The switching off can take some time though, so below in Section 6 we provide a pre-learnt module, but to complete section 6 you'll need to be working in the IPython console instead of the notebook.\n",
      "\n",
      "For the moment we'll run a short experiment applying the Bayesian GP-LVM with an exponentiated quadratic covariance function."
     ]
    },
    {
     "cell_type": "code",
     "collapsed": false,
     "input": [
      "# Model optimization\n",
      "input_dim = 5 # How many latent dimensions to use\n",
      "kern = GPy.kern.rbf(input_dim,ARD=True) # ARD kernel\n",
      "m = GPy.models.BayesianGPLVM(Yn, input_dim=input_dim, kernel=kern, num_inducing=25)\n",
      "\n",
      "# initialize noise as 1% of variance in data\n",
      "m['noise'] = m.likelihood.Y.var()/100.\n",
      "m.optimize('scg', messages=1, max_iters=1000)"
     ],
     "language": "python",
     "metadata": {},
     "outputs": []
    },
    {
     "cell_type": "code",
     "collapsed": false,
     "input": [
      "# Plotting the model\n",
      "plot_model(m, m['rbf_len'].argsort()[:2], labels.flatten())\n",
      "pb.legend()\n",
      "m.kern.plot_ARD()\n",
      "# Saving the model:\n",
      "m.pickle('bgplvm_rbf.pickle')"
     ],
     "language": "python",
     "metadata": {},
     "outputs": []
    },
    {
     "cell_type": "markdown",
     "metadata": {},
     "source": [
      "Because we are now also considering the uncertainty in the model, this optimization can take some time. However, you are free to interrupt the optimization at any point selecting `Kernel->Interupt` from the notepad menu. This will leave you with the model, `m` in the current state and you can plot and look into the model parameters. "
     ]
    },
    {
     "cell_type": "heading",
     "level": 3,
     "metadata": {},
     "source": [
      "Exercise 2"
     ]
    },
    {
     "cell_type": "markdown",
     "metadata": {},
     "source": [
      "a) How does the Bayesian GP-LVM compare with the standard model?"
     ]
    },
    {
     "cell_type": "raw",
     "metadata": {},
     "source": [
      "# Exercise 2 a) answer "
     ]
    },
    {
     "cell_type": "heading",
     "level": 3,
     "metadata": {},
     "source": [
      "Preoptimized Model"
     ]
    },
    {
     "cell_type": "markdown",
     "metadata": {},
     "source": [
      "A good way of working with latent variable models is to interact with the latent dimensions, generating data. This is a little bit tricky in the notebook, so below in section 6 we provide code for setting up an interactive demo in the standard IPython shell. If you are working on your own machine you can try this now. Otherwise continue with section 5."
     ]
    },
    {
     "cell_type": "heading",
     "level": 2,
     "metadata": {},
     "source": [
      "5 Multiview Learning: Manifold Relevance Determination"
     ]
    },
    {
     "cell_type": "markdown",
     "metadata": {},
     "source": [
      "In Manifold Relevance Determination we try to find one latent space, common for $K$ observed output sets (modalities) $\\{\\mathbf{Y}_{k}\\}_{k=1}^{K}$. Each modality is associated with a separate set of ARD parameters so that it switches off different parts of the whole latent space and, therefore, $\\mathbf{X}$ is softly segmented into parts that are private to some, or shared for all modalities. Can you explain what happens in the following example?"
     ]
    },
    {
     "cell_type": "markdown",
     "metadata": {},
     "source": [
      "Again, you can stop the optimizer at any point and explore the result obtained with the so far training:"
     ]
    },
    {
     "cell_type": "code",
     "collapsed": false,
     "input": [
      "m = GPy.examples.dimensionality_reduction.mrd_simulation(optimize = False)\n",
      "m.optimize(messages = True, max_iters=1000, optimizer = 'bfgs')"
     ],
     "language": "python",
     "metadata": {},
     "outputs": []
    },
    {
     "cell_type": "code",
     "collapsed": false,
     "input": [
      "m.plot_scales()\n",
      "m.plot_X_1d()"
     ],
     "language": "python",
     "metadata": {},
     "outputs": []
    },
    {
     "cell_type": "heading",
     "level": 3,
     "metadata": {},
     "source": [
      "Exercise 3"
     ]
    },
    {
     "cell_type": "markdown",
     "metadata": {},
     "source": [
      "The simulated data set is a sinusoid and a double frequency sinusoid function as input signals."
     ]
    },
    {
     "cell_type": "markdown",
     "metadata": {},
     "source": [
      "a) Which signal is shared across the three datasets? "
     ]
    },
    {
     "cell_type": "raw",
     "metadata": {},
     "source": [
      "# Exercise 3 a) answer"
     ]
    },
    {
     "cell_type": "markdown",
     "metadata": {},
     "source": [
      "b) Which are private? "
     ]
    },
    {
     "cell_type": "raw",
     "metadata": {},
     "source": [
      "# Exercise 3 b) answer"
     ]
    },
    {
     "cell_type": "markdown",
     "metadata": {},
     "source": [
      "c) Are there signals shared only between two of the three datasets?"
     ]
    },
    {
     "cell_type": "raw",
     "metadata": {},
     "source": [
      "# Exercise 3 c) answer"
     ]
    },
    {
     "cell_type": "heading",
     "level": 2,
     "metadata": {},
     "source": [
      "6 Interactive Demo: For Use Outside the Notepad"
     ]
    },
    {
     "cell_type": "markdown",
     "metadata": {},
     "source": [
      "The module below loads a pre-optimized Bayesian GPLVM model (like the one you just trained) and allows you to interact with the latent space. \n",
      "Three interactive figures pop up: the latent space, the ARD scales and a sample in the output space (corresponding to the current selected latent point of the other figure). \n",
      "You can sample with the mouse from the latent space and obtain samples in the output space. \n",
      "You can select different latent dimensions to vary by clicking on the corresponding scales with the left and right mouse buttons.\n",
      "This will also cause the latent space to be projected on the selected latent dimensions in the other figure."
     ]
    },
    {
     "cell_type": "code",
     "collapsed": false,
     "input": [
      "run load_bgplvm_dimension_select.py"
     ],
     "language": "python",
     "metadata": {},
     "outputs": []
    },
    {
     "cell_type": "code",
     "collapsed": false,
     "input": [
      "import cPickle as pickle\n",
      "with open('./digit_bgplvm_demo.pickle', 'rb') as f:\n",
      "    m = pickle.load(f)"
     ],
     "language": "python",
     "metadata": {},
     "outputs": []
    },
    {
     "cell_type": "markdown",
     "metadata": {},
     "source": [
      "Prepare for plotting of this model. If you run on a webserver the interactive plotting will not work. Thus, you can skip to the next codeblock and run it on your own machine, later."
     ]
    },
    {
     "cell_type": "code",
     "collapsed": false,
     "input": [
      "fig = pb.figure('Latent Space & Scales', figsize=(16,6))\n",
      "ax_latent = fig.add_subplot(121)\n",
      "ax_scales = fig.add_subplot(122)\n",
      "\n",
      "fig_out = pb.figure('Output', figsize=(1,1))\n",
      "ax_image  = fig_out.add_subplot(111)\n",
      "fig_out.tight_layout(pad=0)\n",
      "\n",
      "data_show = GPy.util.visualize.image_show(m.likelihood.Y[0:1, :], dimensions=(16, 16), transpose=0, invert=0, scale=False, axes=ax_image)\n",
      "lvm_visualizer = GPy.util.visualize.lvm_dimselect(m.X.copy(), m, data_show, ax_latent, ax_scales, labels=labels.flatten())"
     ],
     "language": "python",
     "metadata": {},
     "outputs": []
    },
    {
     "cell_type": "markdown",
     "metadata": {},
     "source": [
      "**Observations**\n",
      "\n",
      "Confirm the following observations by interacting with the demo:\n",
      "\n",
      "* We tend to obtain more \"strange\" outputs when sampling from latent space areas away from the training inputs.\n",
      "* When sampling from the two dominant latent dimensions (the ones corresponding to large scales) we differentiate between all digits. Also note that projecting the latent space into the two dominant dimensions better separates the classes.\n",
      "* When sampling from less dominant latent dimensions the outputs vary in a more subtle way.\n",
      "\n",
      "You can also run the dimensionality reduction example"
     ]
    },
    {
     "cell_type": "code",
     "collapsed": false,
     "input": [
      "GPy.examples.dimensionality_reduction.bgplvm_simulation()"
     ],
     "language": "python",
     "metadata": {},
     "outputs": []
    },
    {
     "cell_type": "markdown",
     "metadata": {},
     "source": [
      "**Questions**\n",
      "\n",
      "* Can you see a difference in the ARD parameters to the non Bayesian GPLVM?\n",
      "* How does the Bayesian GPLVM allow the ARD parameters of the RBF kernel magnify the two first dimensions?\n",
      "* Is Bayesian GPLVM better in differentiating between different kinds of digits?\n",
      "* Why does the starting noise variance have to be lower then the variance of the observed values?\n",
      "* How come we use the lowest variance when using a linear kernel, but the highest lengtscale when using an RBF kernel?"
     ]
    },
    {
     "cell_type": "heading",
     "level": 2,
     "metadata": {},
     "source": [
      "References"
     ]
    },
    {
     "cell_type": "markdown",
     "metadata": {},
     "source": [
      "C. M. Bishop. Pattern recognition and machine learning, volume 1. springer New York, 2006.\n",
      "\n",
      "T. de Campos, B. R. Babu, and M. Varma. Character recognition in natural images. VISAPP 2009.\n",
      "\n",
      "N. D. Lawrence. Probabilistic non-linear principal component analysis with Gaussian process latent variable models. In Journal of Machine Learning Research 6, pp 1783--1816, 2005"
     ]
    }
   ],
   "metadata": {}
  }
 ]
}