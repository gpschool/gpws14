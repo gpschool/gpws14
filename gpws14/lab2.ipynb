{
 "metadata": {
  "name": ""
 },
 "nbformat": 3,
 "nbformat_minor": 0,
 "worksheets": [
  {
   "cells": [
    {
     "cell_type": "heading",
     "level": 1,
     "metadata": {},
     "source": [
      "Lab session 2: Multiple Outputs, Sparse GPs and likelihood\n",
      "approximation"
     ]
    },
    {
     "cell_type": "markdown",
     "metadata": {},
     "source": [
      "Gaussian Process Winter School, 14th January 2014\n",
      "written by Ricardo Andrade Pacheco, Neil Lawrence and James Hensman"
     ]
    },
    {
     "cell_type": "markdown",
     "metadata": {},
     "source": [
      "In this lab we are going to build on yestereday's work by looking at multiple output Gaussian processes, considering low rank approximations to Gaussian processes and considering approaches to dealing with non-Gaussian likelihoods. You should try and get at least as far as **Exercise 5**."
     ]
    },
    {
     "cell_type": "heading",
     "level": 2,
     "metadata": {},
     "source": [
      "1 Getting started: Modelling Multiple Outputs"
     ]
    },
    {
     "cell_type": "markdown",
     "metadata": {},
     "source": [
      "Just as in the first lab, we firstly specify to include plots in the notebook and to import relevant libraries."
     ]
    },
    {
     "cell_type": "code",
     "collapsed": false,
     "input": [
      "%pylab inline\n",
      "import numpy as np\n",
      "import pylab as pb\n",
      "import GPy"
     ],
     "language": "python",
     "metadata": {},
     "outputs": []
    },
    {
     "cell_type": "heading",
     "level": 3,
     "metadata": {},
     "source": [
      "Running Example"
     ]
    },
    {
     "cell_type": "markdown",
     "metadata": {},
     "source": [
      "The first think we will look at is a multiple output model. Our aim is to jointly model all *sprinting* events from olympics since 1896. Data is provided by Rogers & Girolami's \"First Course in Machine Learning\". Firstly, let's load in the data."
     ]
    },
    {
     "cell_type": "code",
     "collapsed": false,
     "input": [
      "GPy.util.datasets.authorize_download = lambda x: True # prevents requesting authorization for download.\n",
      "data = GPy.util.datasets.olympic_sprints()\n",
      "X = data['X']\n",
      "y = data['Y']\n",
      "print data['info'], data['details']"
     ],
     "language": "python",
     "metadata": {},
     "outputs": []
    },
    {
     "cell_type": "markdown",
     "metadata": {},
     "source": [
      "When using data sets it's good practice to cite the originators of the data, you can get information about the source of the data from `data['citation']`"
     ]
    },
    {
     "cell_type": "code",
     "collapsed": false,
     "input": [
      "print data['citation']"
     ],
     "language": "python",
     "metadata": {},
     "outputs": []
    },
    {
     "cell_type": "markdown",
     "metadata": {},
     "source": [
      "The data consists of all the male and female sprinting data for 100m, 200m and 400m since 1896 (six outputs in total). The ouput information can be found from: `data['output_info']`"
     ]
    },
    {
     "cell_type": "code",
     "collapsed": false,
     "input": [
      "print data['output_info']"
     ],
     "language": "python",
     "metadata": {},
     "outputs": []
    },
    {
     "cell_type": "markdown",
     "metadata": {},
     "source": [
      "In GPy we deal with multiple output data in a particular way. We specify the output we are interested in for modelling as an additional *input*. So whilst for this data, normally, the only input would be the year of the event. We additionally have an input giving the index of the output we are modelling. This can be seen from examining `data['X']`."
     ]
    },
    {
     "cell_type": "code",
     "collapsed": false,
     "input": [
      "print 'First column of X contains the olympic years.'\n",
      "print data['X'][:, 0]\n",
      "print 'Second column of X contains the event index.'\n",
      "print data['X'][:, 1]"
     ],
     "language": "python",
     "metadata": {},
     "outputs": []
    },
    {
     "cell_type": "markdown",
     "metadata": {},
     "source": [
      "Now let's plot the data"
     ]
    },
    {
     "cell_type": "code",
     "collapsed": false,
     "input": [
      "markers = ['bo', 'ro', 'bx', 'rx', 'bs', 'rs']\n",
      "for i in range(6):\n",
      "    # extract the event \n",
      "    x_event = X[np.nonzero(X[:, 1]==i), 0]\n",
      "    y_event = y[np.nonzero(X[:, 1]==i), 0]\n",
      "    pb.plot(x_event, y_event, markers[i])\n",
      "pb.title('Olympic Sprint Times')\n",
      "xlabel('year')\n",
      "ylabel('time/s')"
     ],
     "language": "python",
     "metadata": {},
     "outputs": []
    },
    {
     "cell_type": "markdown",
     "metadata": {},
     "source": [
      "In the plot above red is women's events, blue is men's. Squares are 400 m, crosses 200m and circles 100m. Not all events were run in all years, for example the women's 400 m only started in 1964."
     ]
    },
    {
     "cell_type": "markdown",
     "metadata": {},
     "source": [
      "We will look at modelling the data using coregionalization approaches described in this morning's lecture. We introduced these approaches through the Kronecker product. To indicate we want to construct a covariance function of this type in GPy we've overloaded the `**` operator. Stricly speaking this operator means to the power of (like `^` in MATLAB). But for covariance functions we've used it to indicate a tensor product. The linear models of coregionalization we introduced in the lecture were all based on combining a matrix with a standard covariance function. We can think of the matrix as a particular type of covariance function, whose elements are referenced using the event indices. I.e. $k(0, 0)$ references the first row and column of the coregionalization matrix. $k(1, 0)$ references the second row and first column of the coregionalization matrix. Under this set up, we want to build a covariance where the first column from the features (the years) is passed to a covariance function, and the second column from the features (the event number) is passed to the coregionalisation matrix. Let's start by trying a intrinsic coregionalisation model (sometimes known as multitask Gaussian processes). Let's start by checking the help for the `coregionalize` covariance."
     ]
    },
    {
     "cell_type": "code",
     "collapsed": false,
     "input": [
      "GPy.kern.coregionalize?"
     ],
     "language": "python",
     "metadata": {},
     "outputs": []
    },
    {
     "cell_type": "markdown",
     "metadata": {},
     "source": [
      "The coregionalize matrix, $\\mathbf{B}$, is itself is constructed from two other matrices, $\\mathbf{B} = \\mathbf{W}\\mathbf{W}^\\top + \\text{diag}(\\boldsymbol{\\kappa})$. This allows us to specify a low rank form for the coregionalization matrix. However, for our first example we want to specify that the matrix $\\mathbf{B}$ is not constrained to have a low rank form. "
     ]
    },
    {
     "cell_type": "code",
     "collapsed": false,
     "input": [
      "kern = GPy.kern.rbf(1, lengthscale=80)**GPy.kern.coregionalize(output_dim=6, rank=5)"
     ],
     "language": "python",
     "metadata": {},
     "outputs": []
    },
    {
     "cell_type": "markdown",
     "metadata": {},
     "source": [
      "Note here that the rank we specify is that of the $\\mathbf{W}\\mathbf{W}^\\top$ part. When this part is combined with the diagonal matrix from $\\mathbf{\\kappa}$ the matrix $\\mathbf{B}$ is totally general. This covariance function can now be used in a standard Gaussian process regression model. Let's build the model and optimize it."
     ]
    },
    {
     "cell_type": "code",
     "collapsed": false,
     "input": [
      "model = GPy.models.GPRegression(X, y, kern)\n",
      "model.optimize()"
     ],
     "language": "python",
     "metadata": {},
     "outputs": []
    },
    {
     "cell_type": "markdown",
     "metadata": {},
     "source": [
      "We can plot the results using the ability to 'fix inputs' in the `model.plot()` function. We can specify that column 1 should be fixed to event number 2 by passing `fixed_inputs = [(1, 2)]` to the model. To plot the results for all events on the same figure we also specify `fignum=1` in the loop as below. "
     ]
    },
    {
     "cell_type": "code",
     "collapsed": false,
     "input": [
      "for i in range(6):\n",
      "    model.plot(fignum=1,fixed_inputs=[(1, i)])\n",
      "xlabel('years')\n",
      "ylabel('time/s')"
     ],
     "language": "python",
     "metadata": {},
     "outputs": []
    },
    {
     "cell_type": "markdown",
     "metadata": {},
     "source": [
      "There is a lot we can do with this model. First of all, each of the races is a different length, so the series have a different mean. We can include another coregionalization term to deal with the mean. Below we do this and reduce the rank of the coregionalization matrix to 1."
     ]
    },
    {
     "cell_type": "code",
     "collapsed": false,
     "input": [
      "kern1 = GPy.kern.rbf(1, lengthscale=80)**GPy.kern.coregionalize(output_dim=6, rank=1)\n",
      "kern2 = GPy.kern.bias(1)**GPy.kern.coregionalize(output_dim=6, rank=1)\n",
      "kern = kern1 + kern2"
     ],
     "language": "python",
     "metadata": {},
     "outputs": []
    },
    {
     "cell_type": "code",
     "collapsed": false,
     "input": [
      "model = GPy.models.GPRegression(X, y, kern)\n",
      "model.optimize()"
     ],
     "language": "python",
     "metadata": {},
     "outputs": []
    },
    {
     "cell_type": "code",
     "collapsed": false,
     "input": [
      "for i in range(6):\n",
      "    model.plot(fignum=1,fixed_inputs=[(1, i)])\n",
      "xlabel('years')\n",
      "ylabel('time/s')"
     ],
     "language": "python",
     "metadata": {},
     "outputs": []
    },
    {
     "cell_type": "markdown",
     "metadata": {},
     "source": [
      "This is a simple form of the linear model of coregionalization. Note how confident the model is about what the women's 400 m performance would have been. You might feel that the model is being over confident in this region. Perhaps we are forcing too much sharing of information between the sprints. We could return to the intrinsic coregionalization model and force the two base covariance functions to share the same coregionalization matrix."
     ]
    },
    {
     "cell_type": "code",
     "collapsed": false,
     "input": [
      "kern1 = GPy.kern.rbf(1, lengthscale=80) + GPy.kern.bias(1)\n",
      "kern2 = GPy.kern.coregionalize(output_dim=6, rank=5)\n",
      "kern = kern1**kern2"
     ],
     "language": "python",
     "metadata": {},
     "outputs": []
    },
    {
     "cell_type": "code",
     "collapsed": false,
     "input": [
      "model = GPy.models.GPRegression(X, y, kern)\n",
      "model.optimize()"
     ],
     "language": "python",
     "metadata": {},
     "outputs": []
    },
    {
     "cell_type": "code",
     "collapsed": false,
     "input": [
      "for i in range(6):\n",
      "    model.plot(fignum=1,fixed_inputs=[(1, i)])\n",
      "xlabel('years')\n",
      "ylabel('time/s')"
     ],
     "language": "python",
     "metadata": {},
     "outputs": []
    },
    {
     "cell_type": "heading",
     "level": 3,
     "metadata": {},
     "source": [
      "Exercise 1"
     ]
    },
    {
     "cell_type": "markdown",
     "metadata": {},
     "source": [
      "Can you fix the issue with over confidence in this model? Some things you might try include (a) adding additional covariance functions to handle shorter lengthscale effects. (b) Changing the rank of the coregionalization matrix. (c) Adding a coregionalized noise model using `GPy.kern.white()`."
     ]
    },
    {
     "cell_type": "code",
     "collapsed": false,
     "input": [
      "# Question 1 answer here"
     ],
     "language": "python",
     "metadata": {},
     "outputs": []
    },
    {
     "cell_type": "markdown",
     "metadata": {},
     "source": [
      "Predictions in the multioutput case can be very effected by our covariance function *design*. This reflects the themes we saw on the first day where the importance of covariance function choice was emphasized at design time. "
     ]
    },
    {
     "cell_type": "heading",
     "level": 2,
     "metadata": {},
     "source": [
      "2 Low Rank Approximations"
     ]
    },
    {
     "cell_type": "markdown",
     "metadata": {},
     "source": [
      "In the worst case, inference in a Gaussian process is $\\mathcal{O}(n^3)$ computational complexity and $\\mathcal{O}(n^2)$ storage. For efficient inference in larger data sets we need to consider approximations. One approach is low rank approximation of the covariance matrix (also known as sparse approximations or perhaps more accurately parsimonious approximations). We'll study these approximations by first creating a simple data set by sampling from a GP."
     ]
    },
    {
     "cell_type": "code",
     "collapsed": false,
     "input": [
      "X = np.sort(np.random.rand(50,1)*12,0)\n",
      "k = GPy.kern.rbf(1)\n",
      "K = k.K(X)\n",
      "K+= np.eye(50)*0.01 # add some independence (noise) to K\n",
      "y = np.random.multivariate_normal(np.zeros(50), K).reshape(50,1)"
     ],
     "language": "python",
     "metadata": {},
     "outputs": []
    },
    {
     "cell_type": "markdown",
     "metadata": {},
     "source": [
      "Build a straightforward GP model of our simulation. We\u2019ll also plot the posterior of $f$."
     ]
    },
    {
     "cell_type": "code",
     "collapsed": false,
     "input": [
      "m = GPy.models.GPRegression(X,y)\n",
      "m.optimize()\n",
      "m.plot()\n",
      "mu, var = m._raw_predict(X) # this fetches the posterior of f\n",
      "pb.vlines(X[:,0], mu[:,0]-2.*np.sqrt(var[:,0]), mu[:,0]+2.*np.sqrt(var[:,0]),color='r')"
     ],
     "language": "python",
     "metadata": {},
     "outputs": []
    },
    {
     "cell_type": "heading",
     "level": 3,
     "metadata": {},
     "source": [
      "Exercise 2"
     ]
    },
    {
     "cell_type": "markdown",
     "metadata": {},
     "source": [
      "One thought that occurs is as follows. Do we need all the data to create this posterior estimate? Are any of the data points redundant? What happens to the model if you remove some data?\n",
      "\n",
      "*Hint:* \n",
      "`X2 = np.delete(X,range(8),0)`\n",
      "`y2 = np.delete(y,range(8),0)`"
     ]
    },
    {
     "cell_type": "code",
     "collapsed": false,
     "input": [
      "# Exercise 2 answer here"
     ],
     "language": "python",
     "metadata": {},
     "outputs": []
    },
    {
     "cell_type": "heading",
     "level": 3,
     "metadata": {},
     "source": [
      "Building the Low Rank Approximation"
     ]
    },
    {
     "cell_type": "markdown",
     "metadata": {},
     "source": [
      "Now we\u2019ll consider a GP that uses a low rank approximation to fit the data."
     ]
    },
    {
     "cell_type": "code",
     "collapsed": false,
     "input": [
      "Z = np.random.rand(3,1)*12\n",
      "m = GPy.models.SparseGPRegression(X,y,Z=Z)\n",
      "print m"
     ],
     "language": "python",
     "metadata": {},
     "outputs": []
    },
    {
     "cell_type": "markdown",
     "metadata": {},
     "source": [
      "In GPy, the sparse inputs $\\mathbf{Z}$ are abbreviated 'iip' , for inducing input. Plot the posterior\n",
      "of $u$ in the same manner as for the full GP:"
     ]
    },
    {
     "cell_type": "code",
     "collapsed": false,
     "input": [
      "mu, var = m._raw_predict(Z) \n",
      "pb.vlines(Z[:,0], mu[:,0]-2.*np.sqrt(var[:,0]), mu[:,0]+2.*np.sqrt(var[:,0]),color='r')"
     ],
     "language": "python",
     "metadata": {},
     "outputs": []
    },
    {
     "cell_type": "heading",
     "level": 3,
     "metadata": {},
     "source": [
      "Exercise 3"
     ]
    },
    {
     "cell_type": "markdown",
     "metadata": {},
     "source": [
      "a) Optimise and plot the model. The inducing inputs are marked \u2013 how\n",
      "are they placed? You can move them around with e.g. `m['iip_2_0'] = 100` . What\n",
      "happens to the likelihood? What happens to the fit if you remove an input?"
     ]
    },
    {
     "cell_type": "code",
     "collapsed": false,
     "input": [
      "# Exercise 3 a answer"
     ],
     "language": "python",
     "metadata": {},
     "outputs": []
    },
    {
     "cell_type": "markdown",
     "metadata": {},
     "source": [
      "b) How does the fit of the sparse compare with the full GP? Play around\n",
      "with the number of inducing inputs, the fit should improve as $M$ increases. How many\n",
      "inducing points are needed? What do you think happens in higher dimensions?"
     ]
    },
    {
     "cell_type": "raw",
     "metadata": {},
     "source": [
      "# Exercise 3 b answer"
     ]
    },
    {
     "cell_type": "heading",
     "level": 3,
     "metadata": {},
     "source": [
      "Exercise 4"
     ]
    },
    {
     "cell_type": "markdown",
     "metadata": {},
     "source": [
      "Can you build a low rank Gaussian process with the intrinsic model of coregionalization? Do you have to treat the 2nd input (which specifies the event number) in a special way?"
     ]
    },
    {
     "cell_type": "heading",
     "level": 2,
     "metadata": {},
     "source": [
      "3 Non Gaussian Likelihoods"
     ]
    },
    {
     "cell_type": "markdown",
     "metadata": {},
     "source": [
      "Gaussian processes model functions. If our observation is a corrupted version of this function and the corruption process is *also* Gaussian, it is trivial to account for this. However, there are many circumstances where our observation may be non Gaussian. In these cases we need to turn to approximate inference techniques. As a simple illustration, we'll use a dataset of binary observations of the language that is spoken in different regions of East-Timor. First we will load the data and a couple of libraries to visualize it."
     ]
    },
    {
     "cell_type": "code",
     "collapsed": false,
     "input": [
      "from matplotlib.patches import Polygon\n",
      "from matplotlib.collections import PatchCollection\n",
      "import cPickle as pickle\n",
      "import urllib\n",
      "\n",
      "urllib.urlretrieve('http://staffwww.dcs.sheffield.ac.uk/people/M.Zwiessele/gpss/lab2/EastTimor.pickle', 'EastTimor2.pickle')\n",
      "\n",
      "#Load the data\n",
      "with open(\"./EastTimor2.pickle\",\"rb\") as f:\n",
      "    X,y,polygons = pickle.load(f)"
     ],
     "language": "python",
     "metadata": {},
     "outputs": []
    },
    {
     "cell_type": "markdown",
     "metadata": {},
     "source": [
      "Now we will create a map of East Timor and, using GPy, plot the data on top of it. \n",
      "A classification model can be defined in a similar way to the regression model, but now using `GPy.models.GPClassification`. However, once we've define the model, we also need to update the approximation to the likelihood. This runs the Expectation propagation updates."
     ]
    },
    {
     "cell_type": "code",
     "collapsed": false,
     "input": [
      "#Visualize a map of East-Timor\n",
      "fig = pb.figure()\n",
      "ax = fig.add_subplot(111)\n",
      "for p in polygons:\n",
      "    ax.add_collection(PatchCollection([Polygon(p)],facecolor=\"#F4A460\"))\n",
      "ax.set_xlim(124.,127.5)\n",
      "ax.set_ylim(-9.6,-8.1)\n",
      "ax.set_xlabel(\"longitude\")\n",
      "ax.set_ylabel(\"latitude\")\n",
      "\n",
      "#Define the model\n",
      "kern = GPy.kern.rbf(2)\n",
      "m = GPy.models.GPClassification(X,y, kernel=kern)\n",
      "m.update_likelihood_approximation() #Unlike regression we need to add this step.\n",
      "print m\n",
      "m.plot(ax=ax)"
     ],
     "language": "python",
     "metadata": {},
     "outputs": []
    },
    {
     "cell_type": "markdown",
     "metadata": {},
     "source": [
      "The decision boundary should be quite poor! However we haven't optimized the model. Try the following:\n",
      "\n"
     ]
    },
    {
     "cell_type": "code",
     "collapsed": false,
     "input": [
      "m.optimize()\n",
      "print m"
     ],
     "language": "python",
     "metadata": {},
     "outputs": []
    },
    {
     "cell_type": "markdown",
     "metadata": {},
     "source": [
      "The optimization is based on the likelihood approximation that was made after we constructed the model. However, because we've now changed the model parameters the quality of that approximation has now probably deteriorated. To improve the model we should iterate between updating the Expectation propagation approximation and optimizing the model parameters. "
     ]
    },
    {
     "cell_type": "heading",
     "level": 3,
     "metadata": {},
     "source": [
      "Exercise 5"
     ]
    },
    {
     "cell_type": "markdown",
     "metadata": {},
     "source": [
      "Write a for loop to optimize the model by iterating between EP and kernel parameters optimization. What happens with the decision boundary after these iterations?"
     ]
    },
    {
     "cell_type": "code",
     "collapsed": false,
     "input": [
      "# Exercise 5 answer here"
     ],
     "language": "python",
     "metadata": {},
     "outputs": []
    },
    {
     "cell_type": "heading",
     "level": 3,
     "metadata": {},
     "source": [
      "Robust Regression: A Running Example"
     ]
    },
    {
     "cell_type": "markdown",
     "metadata": {},
     "source": [
      "Yesterday we considered the olympic marathon data. In 1904 we noted there was an outlier example. Today we'll see if we can deal with that outlier by considering a non-Gaussian likelihood. Noise sampled from a Student-$t$ density is heavier tailed than that sampled from a Gaussian. However, it cannot be trivially assimilated into the Gaussian process. Below we use the *Laplace approximation* to incorporate this noise model."
     ]
    },
    {
     "cell_type": "code",
     "collapsed": false,
     "input": [
      "# redownload the marathon data from yesterday and plot\n",
      "GPy.util.datasets.authorize_download = lambda x: True # prevents requesting authorization for download.\n",
      "data = GPy.util.datasets.olympic_marathon_men()\n",
      "X = data['X']\n",
      "Y = data['Y']\n",
      "\n",
      "pb.plot(X, Y, 'bx')\n",
      "pb.xlabel('year')\n",
      "pb.ylabel('marathon pace min/km')"
     ],
     "language": "python",
     "metadata": {},
     "outputs": []
    },
    {
     "cell_type": "code",
     "collapsed": false,
     "input": [
      "GPy.likelihoods.noise_model_constructors.student_t?"
     ],
     "language": "python",
     "metadata": {},
     "outputs": []
    },
    {
     "cell_type": "code",
     "collapsed": false,
     "input": [
      "GPy.models.GPRegression?"
     ],
     "language": "python",
     "metadata": {},
     "outputs": []
    },
    {
     "cell_type": "code",
     "collapsed": false,
     "input": [
      "# make a student t likelihood with standard parameters\n",
      "t_distribution = GPy.likelihoods.noise_model_constructors.student_t(deg_free=5, sigma2=2)\n",
      "stu_t_likelihood = GPy.likelihoods.Laplace(Y.copy(), t_distribution)\n",
      "\n",
      "kern = GPy.kern.rbf(1, lengthscale=10) + GPy.kern.bias(1)\n",
      "model = GPy.models.GPRegression(X, Y, kernel=kern, likelihood=stu_t_likelihood)\n",
      "model.constrain_positive('t_noise')\n",
      "\n",
      "model.optimize('bfgs')\n",
      "model.plot()\n",
      "#model.log_likelihood()\n",
      "print model"
     ],
     "language": "python",
     "metadata": {},
     "outputs": []
    },
    {
     "cell_type": "heading",
     "level": 3,
     "metadata": {},
     "source": [
      "Exercise 6"
     ]
    },
    {
     "cell_type": "markdown",
     "metadata": {},
     "source": [
      "Compare this model with a regression model using a Gaussian likelihood. What difference do you notice in the predictions? Which model do you think is better?"
     ]
    },
    {
     "cell_type": "code",
     "collapsed": false,
     "input": [
      "# Exercise 6 answer"
     ],
     "language": "python",
     "metadata": {},
     "outputs": []
    },
    {
     "cell_type": "heading",
     "level": 2,
     "metadata": {},
     "source": [
      "4\n",
      "Sparse GP Classification"
     ]
    },
    {
     "cell_type": "markdown",
     "metadata": {},
     "source": [
      "In this section we'll combine expectation propagation with the low rank approximation to build a simple image classificationa pplication. For this toy example we'll classify whether or not the subject of the image is wearing glasses.\n",
      "correspond to whether the subject of the image is wearing glasses.\n",
      "Set up the ipython environment and download the data:"
     ]
    },
    {
     "cell_type": "code",
     "collapsed": false,
     "input": [
      "import urllib\n",
      "from scipy import io\n",
      "import pylab as pb\n",
      "import numpy as np\n",
      "import pylab as pb\n",
      "import GPy\n",
      "urllib.urlretrieve('http://www.cs.nyu.edu/~roweis/data/olivettifaces.mat', 'faces.mat')\n",
      "face_data = io.loadmat('faces.mat')"
     ],
     "language": "python",
     "metadata": {},
     "outputs": []
    },
    {
     "cell_type": "markdown",
     "metadata": {},
     "source": [
      "Here\u2019s a simple way to visualise the data. Each pixel in the image will become an input\n",
      "to the GP."
     ]
    },
    {
     "cell_type": "code",
     "collapsed": false,
     "input": [
      "faces = face_data['faces'].T\n",
      "pb.imshow(faces[120].reshape(64,64,order='F'),\n",
      "interpolation='nearest',cmap=pb.cm.gray)"
     ],
     "language": "python",
     "metadata": {},
     "outputs": []
    },
    {
     "cell_type": "markdown",
     "metadata": {},
     "source": [
      "Now fetch the class labels"
     ]
    },
    {
     "cell_type": "code",
     "collapsed": false,
     "input": [
      "urllib.urlretrieve(\\\n",
      "'http://staffwww.dcs.sheffield.ac.uk/people/J.Hensman/gpsummer/datasets/has_glasses.np',\n",
      "'has_glasses.np')\n",
      "y = np.load('has_glasses.np')\n",
      "y = np.where(y=='y',1,0).reshape(-1,1)"
     ],
     "language": "python",
     "metadata": {},
     "outputs": []
    },
    {
     "cell_type": "markdown",
     "metadata": {},
     "source": [
      "Divide the data into a training/testing set:"
     ]
    },
    {
     "cell_type": "code",
     "collapsed": false,
     "input": [
      "index = np.random.permutation(faces.shape[0])\n",
      "num_training = 200\n",
      "Xtrain = faces[index[:num_training],:]\n",
      "Xtest = faces[index[num_training:],:]\n",
      "ytrain = y[index[:num_training],:]\n",
      "ytest = y[index[num_training:]]"
     ],
     "language": "python",
     "metadata": {},
     "outputs": []
    },
    {
     "cell_type": "markdown",
     "metadata": {},
     "source": [
      "Next we choose some inducing inputs. Here we've chosen inducing inputs by applying k-means clustering to the training data. Think about whether this is a good scheme for choosing the inputs? Can you\n",
      "devise a better one?"
     ]
    },
    {
     "cell_type": "code",
     "collapsed": false,
     "input": [
      "from scipy import cluster\n",
      "M = 8\n",
      "Z, distortion = cluster.vq.kmeans(Xtrain,M)"
     ],
     "language": "python",
     "metadata": {},
     "outputs": []
    },
    {
     "cell_type": "markdown",
     "metadata": {},
     "source": [
      "Finally, we\u2019re ready to build the classifier object."
     ]
    },
    {
     "cell_type": "code",
     "collapsed": false,
     "input": [
      "k = GPy.kern.rbf(4096,lengthscale=50) + GPy.kern.white(4096,0.001)\n",
      "m = GPy.models.SparseGPClassification(Xtrain, ytrain, kernel=k, Z=Z, normalize_X=True)\n",
      "m.update_likelihood_approximation()\n",
      "m.optimize()"
     ],
     "language": "python",
     "metadata": {},
     "outputs": []
    },
    {
     "cell_type": "heading",
     "level": 3,
     "metadata": {},
     "source": [
      "Exercise 7"
     ]
    },
    {
     "cell_type": "markdown",
     "metadata": {},
     "source": [
      "a) Look at the following figure. What is being shown? Why does it look\n",
      "like this?"
     ]
    },
    {
     "cell_type": "code",
     "collapsed": false,
     "input": [
      "pb.figure()\n",
      "pb.imshow(m.dL_dZ()[0].reshape(64,64,order='F'),interpolation='nearest',cmap=pb.cm.gray)"
     ],
     "language": "python",
     "metadata": {},
     "outputs": []
    },
    {
     "cell_type": "raw",
     "metadata": {},
     "source": [
      "# Exercise 7 a) answer here"
     ]
    },
    {
     "cell_type": "markdown",
     "metadata": {},
     "source": [
      "b) Write some code to evaluate the model\u2019s performance, using the held-out data that we separated earlier. How is the error rate? Is that better than random\n",
      "guessing? *Hint:* `GPy.util.classification.conf_matrix(prob_estimate,ytest)`"
     ]
    },
    {
     "cell_type": "raw",
     "metadata": {},
     "source": [
      "# Exercise 7 b) answer here"
     ]
    },
    {
     "cell_type": "markdown",
     "metadata": {},
     "source": [
      "c) Write another simple for loop to optimize the model. How low can you get the error rate to go? What kind of kernel do you think might be appropriate for this classification task?"
     ]
    },
    {
     "cell_type": "raw",
     "metadata": {},
     "source": [
      "# Exercise 7 c) answer here"
     ]
    }
   ],
   "metadata": {}
  }
 ]
}